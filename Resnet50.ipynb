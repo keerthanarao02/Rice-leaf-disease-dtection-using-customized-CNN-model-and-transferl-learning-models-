{
  "nbformat": 4,
  "nbformat_minor": 0,
  "metadata": {
    "colab": {
      "provenance": []
    },
    "kernelspec": {
      "name": "python3",
      "display_name": "Python 3"
    },
    "language_info": {
      "name": "python"
    }
  },
  "cells": [
    {
      "cell_type": "code",
      "execution_count": null,
      "metadata": {
        "id": "ol2yYcWOUEek"
      },
      "outputs": [],
      "source": [
        "import torch\n",
        "import torch.nn as nn\n",
        "import torch.optim as optim\n",
        "from torchvision import datasets, transforms\n",
        "import torchvision.models as models\n"
      ]
    },
    {
      "cell_type": "code",
      "source": [
        "import torch\n",
        "import torch.nn as nn\n",
        "import torch.optim as optim\n",
        "from torchvision import datasets, transforms\n",
        "import torchvision.models as models\n",
        "\n",
        "# Define the transforms for data preprocessing\n",
        "data_transforms = transforms.Compose([\n",
        "    transforms.Resize((224, 224)),\n",
        "    transforms.ToTensor(),\n",
        "    transforms.Normalize((0.485, 0.456, 0.406), (0.229, 0.224, 0.225))\n",
        "])\n",
        "\n",
        "# Set the path to your dataset\n",
        "data_dir = '/content/drive/MyDrive/archive'\n",
        "\n",
        "# Load the dataset and apply the transforms\n",
        "train_dataset = datasets.ImageFolder( '/content/drive/MyDrive/archive/training set', transform=data_transforms)\n",
        "val_dataset = datasets.ImageFolder( '/content/drive/MyDrive/archive/testing set', transform=data_transforms)\n",
        "\n",
        "# Set the batch size for training and validation\n",
        "batch_size = 32\n",
        "\n",
        "# Create data loaders\n",
        "train_loader = torch.utils.data.DataLoader(train_dataset, batch_size=batch_size, shuffle=True)\n",
        "val_loader = torch.utils.data.DataLoader(val_dataset, batch_size=batch_size, shuffle=False)\n",
        "\n",
        "# Define the number of classes\n",
        "num_classes = len(train_dataset.classes)\n",
        "\n",
        "# Create an instance of ResNet-50\n",
        "model = models.resnet50(pretrained=True)\n",
        "\n",
        "# Modify the fully connected layer for the number of classes\n",
        "num_ftrs = model.fc.in_features\n",
        "model.fc = nn.Linear(num_ftrs, num_classes)\n",
        "\n",
        "# Move the model to the GPU if available\n",
        "device = torch.device(\"cuda\" if torch.cuda.is_available() else \"cpu\")\n",
        "model.to(device)\n",
        "\n",
        "# Define the loss function and optimizer\n",
        "criterion = nn.CrossEntropyLoss()\n",
        "optimizer = optim.SGD(model.parameters(), lr=0.001, momentum=0.9)\n",
        "\n",
        "# Define the number of epochs for training\n",
        "num_epochs = 10\n",
        "\n",
        "# Training loop\n",
        "for epoch in range(num_epochs):\n",
        "    # Training phase\n",
        "    model.train()\n",
        "    running_loss = 0.0\n",
        "    correct_predictions = 0\n",
        "    total_predictions = 0\n",
        "\n",
        "    for images, labels in train_loader:\n",
        "        images = images.to(device)\n",
        "        labels = labels.to(device)\n",
        "\n",
        "        # Zero the gradients\n",
        "        optimizer.zero_grad()\n",
        "\n",
        "        # Forward pass\n",
        "        outputs = model(images)\n",
        "        loss = criterion(outputs, labels)\n",
        "\n",
        "        # Backward pass and optimization\n",
        "        loss.backward()\n",
        "        optimizer.step()\n",
        "\n",
        "        # Compute training statistics\n",
        "        _, predicted = torch.max(outputs, 1)\n",
        "        running_loss += loss.item()\n",
        "        total_predictions += labels.size(0)\n",
        "        correct_predictions += (predicted == labels).sum().item()\n",
        "\n",
        "    train_loss = running_loss / len(train_loader)\n",
        "    train_accuracy = correct_predictions / total_predictions\n",
        "\n",
        "    # Validation phase\n",
        "    model.eval()\n",
        "    running_loss = 0.0\n",
        "    correct_predictions = 0\n",
        "    total_predictions = 0\n",
        "\n",
        "    with torch.no_grad():\n",
        "        for images, labels in val_loader:\n",
        "            images = images.to(device)\n",
        "            labels = labels.to(device)\n",
        "\n",
        "            # Forward pass\n",
        "            outputs = model(images)\n",
        "            loss = criterion(outputs, labels)\n",
        "\n",
        "            # Compute validation statistics\n",
        "            _, predicted = torch.max(outputs, 1)\n",
        "            running_loss += loss.item()\n",
        "            total_predictions += labels.size(0)\n",
        "            correct_predictions += (predicted == labels).sum().item()\n",
        "\n",
        "    val_loss = running_loss / len(val_loader)\n",
        "    val_accuracy = correct_predictions / total_predictions\n",
        "\n",
        "    # Print epoch statistics\n",
        "    print(f\"Epoch [{epoch + 1}/{num_epochs}] - \"\n",
        "          f\"Train Loss: {train_loss:.4f}, Train Accuracy: {train_accuracy:.4f} - \"\n",
        "          f\"Val Loss: {val_loss:.4f}, Val Accuracy: {val_accuracy:.4f}\")\n"
      ],
      "metadata": {
        "colab": {
          "base_uri": "https://localhost:8080/"
        },
        "id": "A8qW7bLIZgaC",
        "outputId": "2a086dd8-5c08-4d4b-ca4e-fca689e881f1"
      },
      "execution_count": null,
      "outputs": [
        {
          "metadata": {
            "tags": null
          },
          "name": "stderr",
          "output_type": "stream",
          "text": [
            "/usr/local/lib/python3.10/dist-packages/torchvision/models/_utils.py:208: UserWarning: The parameter 'pretrained' is deprecated since 0.13 and may be removed in the future, please use 'weights' instead.\n",
            "  warnings.warn(\n",
            "/usr/local/lib/python3.10/dist-packages/torchvision/models/_utils.py:223: UserWarning: Arguments other than a weight enum or `None` for 'weights' are deprecated since 0.13 and may be removed in the future. The current behavior is equivalent to passing `weights=ResNet50_Weights.IMAGENET1K_V1`. You can also use `weights=ResNet50_Weights.DEFAULT` to get the most up-to-date weights.\n",
            "  warnings.warn(msg)\n",
            "Downloading: \"https://download.pytorch.org/models/resnet50-0676ba61.pth\" to /root/.cache/torch/hub/checkpoints/resnet50-0676ba61.pth\n",
            "100%|██████████| 97.8M/97.8M [00:01<00:00, 85.2MB/s]\n"
          ]
        },
        {
          "output_type": "stream",
          "name": "stdout",
          "text": [
            "Epoch [1/10] - Train Loss: 1.1426, Train Accuracy: 0.3129 - Val Loss: 1.2829, Val Accuracy: 0.3571\n",
            "Epoch [2/10] - Train Loss: 0.9575, Train Accuracy: 0.6327 - Val Loss: 1.5124, Val Accuracy: 0.6190\n",
            "Epoch [3/10] - Train Loss: 0.6803, Train Accuracy: 0.7891 - Val Loss: 1.0155, Val Accuracy: 0.6190\n",
            "Epoch [4/10] - Train Loss: 0.4830, Train Accuracy: 0.9184 - Val Loss: 0.8359, Val Accuracy: 0.6667\n",
            "Epoch [5/10] - Train Loss: 0.3230, Train Accuracy: 0.9524 - Val Loss: 1.0776, Val Accuracy: 0.6905\n",
            "Epoch [6/10] - Train Loss: 0.1958, Train Accuracy: 0.9728 - Val Loss: 1.2327, Val Accuracy: 0.6429\n",
            "Epoch [7/10] - Train Loss: 0.1629, Train Accuracy: 0.9728 - Val Loss: 1.1184, Val Accuracy: 0.6667\n",
            "Epoch [8/10] - Train Loss: 0.0947, Train Accuracy: 0.9932 - Val Loss: 0.9344, Val Accuracy: 0.7381\n",
            "Epoch [9/10] - Train Loss: 0.0677, Train Accuracy: 1.0000 - Val Loss: 0.8721, Val Accuracy: 0.7381\n",
            "Epoch [10/10] - Train Loss: 0.0371, Train Accuracy: 1.0000 - Val Loss: 0.8627, Val Accuracy: 0.7381\n"
          ]
        }
      ]
    },
    {
      "cell_type": "code",
      "source": [
        "import torch\n",
        "import torchvision.transforms as transforms\n",
        "from torchvision import models\n",
        "from PIL import Image\n",
        "\n",
        "transform = transforms.Compose([\n",
        "    transforms.Resize((224, 224)),\n",
        "    transforms.ToTensor(),\n",
        "    transforms.Normalize((0.485, 0.456, 0.406), (0.229, 0.224, 0.225))\n",
        "])\n",
        "\n",
        "image_path = '/content/drive/MyDrive/archive/testing set/Brown spot/DSC_0337.JPG'  # Change this to the path of your input image\n",
        "image = Image.open(image_path)\n",
        "input_tensor = transform(image)\n",
        "input_batch = input_tensor.unsqueeze(0)\n",
        "\n",
        "# Move the input tensor to the GPU if available\n",
        "device = torch.device(\"cuda\" if torch.cuda.is_available() else \"cpu\")\n",
        "input_batch = input_batch.to(device)\n",
        "\n",
        "# Perform the prediction\n",
        "with torch.no_grad():\n",
        "    output = model(input_batch)\n",
        "\n",
        "# Convert the output probabilities to predicted class labels\n",
        "_, predicted_idx = torch.max(output, 1)\n",
        "predicted_label = predicted_idx.item()\n",
        "\n",
        "# Print the predicted label\n",
        "print(\"Predicted Label:\", predicted_label)"
      ],
      "metadata": {
        "colab": {
          "base_uri": "https://localhost:8080/"
        },
        "id": "rESb5w-lZ6lQ",
        "outputId": "4bb61745-1a6d-4d37-e991-926778a332c8"
      },
      "execution_count": null,
      "outputs": [
        {
          "output_type": "stream",
          "name": "stdout",
          "text": [
            "Predicted Label: 1\n"
          ]
        }
      ]
    },
    {
      "cell_type": "code",
      "source": [],
      "metadata": {
        "id": "HJjft3oQZ6on"
      },
      "execution_count": null,
      "outputs": []
    }
  ]
}