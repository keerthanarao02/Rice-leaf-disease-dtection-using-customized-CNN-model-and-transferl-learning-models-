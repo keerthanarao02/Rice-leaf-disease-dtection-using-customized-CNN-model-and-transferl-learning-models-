{
  "cells": [
    {
      "cell_type": "code",
      "source": [
        "from google.colab import drive\n",
        "drive.mount('/content/drive')"
      ],
      "metadata": {
        "id": "1t1XG3A-PDDl",
        "outputId": "bc4768f1-bdb0-44f0-d367-21edd6d08a17",
        "colab": {
          "base_uri": "https://localhost:8080/"
        }
      },
      "execution_count": null,
      "outputs": [
        {
          "output_type": "stream",
          "name": "stdout",
          "text": [
            "Drive already mounted at /content/drive; to attempt to forcibly remount, call drive.mount(\"/content/drive\", force_remount=True).\n"
          ]
        }
      ]
    },
    {
      "cell_type": "code",
      "source": [
        "from keras.models import Sequential\n",
        "from keras.layers import Conv2D\n",
        "from keras.layers import Flatten\n",
        "from keras. layers import MaxPooling2D\n",
        "from keras.layers import Dense\n",
        "import numpy as np\n",
        "#import numpy as np # linear algebra\n",
        "import pandas as pd # data processing, CSV file I/O (e.g. pd.read_csv)\n",
        "import tensorflow as tf\n",
        "from tensorflow import keras\n",
        "import matplotlib.pyplot as plt\n",
        "import os\n",
        "import time"
      ],
      "metadata": {
        "id": "O1s73kxuQ2rg"
      },
      "execution_count": null,
      "outputs": []
    },
    {
      "cell_type": "code",
      "source": [
        "model=keras.models.Sequential([\n",
        "    keras.layers.Conv2D(filters=128, kernel_size=(11,11), strides=(4,4), activation='relu', input_shape=(64,64,3)),\n",
        "    keras.layers.BatchNormalization(),\n",
        "    keras.layers.MaxPool2D(pool_size=(2,2)),\n",
        "    keras.layers.Conv2D(filters=256, kernel_size=(5,5), strides=(1,1), activation='relu', padding=\"same\"),\n",
        "    keras.layers.BatchNormalization(),\n",
        "    keras.layers.MaxPool2D(pool_size=(3,3)),\n",
        "    keras.layers.Conv2D(filters=256, kernel_size=(3,3), strides=(1,1), activation='relu', padding=\"same\"),\n",
        "    keras.layers.BatchNormalization(),\n",
        "    keras.layers.Conv2D(filters=256, kernel_size=(1,1), strides=(1,1), activation='relu', padding=\"same\"),\n",
        "    keras.layers.BatchNormalization(),\n",
        "    keras.layers.Conv2D(filters=256, kernel_size=(1,1), strides=(1,1), activation='relu', padding=\"same\"),\n",
        "    keras.layers.BatchNormalization(),\n",
        "    keras.layers.MaxPool2D(pool_size=(2,2)),\n",
        "    keras.layers.Flatten(),\n",
        "    keras.layers.Dense(1024,activation='relu'),\n",
        "    keras.layers.Dropout(0.5),\n",
        "    keras.layers.Dense(1024,activation='relu'),\n",
        "    keras.layers.Dropout(0.5),\n",
        "    keras.layers.Dense(1,activation='sigmoid')\n",
        "\n",
        "\n",
        "])"
      ],
      "metadata": {
        "id": "ql5vRU7OQ2u7"
      },
      "execution_count": null,
      "outputs": []
    },
    {
      "cell_type": "code",
      "source": [
        "from keras.preprocessing.image import ImageDataGenerator\n",
        "model.compile(optimizer='adadelta',loss='binary_crossentropy',metrics=['accuracy'])"
      ],
      "metadata": {
        "id": "6fAjwNWoQ2yT"
      },
      "execution_count": null,
      "outputs": []
    },
    {
      "cell_type": "code",
      "source": [
        "train_datagen = ImageDataGenerator(rescale = 1./255,shear_range = 0.2,zoom_range = 0.4,horizontal_flip = True)\n",
        "test_datagen = ImageDataGenerator(rescale = 1./255)\n"
      ],
      "metadata": {
        "id": "M7vGWDvyRGGg"
      },
      "execution_count": null,
      "outputs": []
    },
    {
      "cell_type": "code",
      "source": [
        "training_set =train_datagen.flow_from_directory('/content/drive/MyDrive/archive/training set',target_size = (64, 64),batch_size = 32,class_mode = 'binary')\n",
        "test_set = test_datagen.flow_from_directory('/content/drive/MyDrive/archive/testing set',target_size = (64, 64),batch_size = 32,class_mode = 'binary')"
      ],
      "metadata": {
        "id": "ITNMPahdRGJx",
        "outputId": "e12420f8-96f9-492c-c1a3-e320a6279e02",
        "colab": {
          "base_uri": "https://localhost:8080/"
        }
      },
      "execution_count": null,
      "outputs": [
        {
          "output_type": "stream",
          "name": "stdout",
          "text": [
            "Found 147 images belonging to 3 classes.\n",
            "Found 42 images belonging to 3 classes.\n"
          ]
        }
      ]
    },
    {
      "cell_type": "code",
      "source": [
        "type(training_set)"
      ],
      "metadata": {
        "id": "ZeC_cskyRGNP",
        "outputId": "027309e7-24f7-4238-a2ff-fc5759dc2405",
        "colab": {
          "base_uri": "https://localhost:8080/"
        }
      },
      "execution_count": null,
      "outputs": [
        {
          "output_type": "execute_result",
          "data": {
            "text/plain": [
              "keras.preprocessing.image.DirectoryIterator"
            ]
          },
          "metadata": {},
          "execution_count": 12
        }
      ]
    },
    {
      "cell_type": "code",
      "source": [
        "model.fit(training_set,epochs = 10,validation_data = test_set,validation_steps = 1)"
      ],
      "metadata": {
        "id": "OLG_J-K0Rmrc",
        "outputId": "48b84eb3-de64-4365-8f77-c50ebdb81aad",
        "colab": {
          "base_uri": "https://localhost:8080/"
        }
      },
      "execution_count": null,
      "outputs": [
        {
          "output_type": "stream",
          "name": "stdout",
          "text": [
            "Epoch 1/10\n",
            "5/5 [==============================] - 8s 1s/step - loss: 0.6068 - accuracy: 0.4150 - val_loss: 0.7435 - val_accuracy: 0.3125\n",
            "Epoch 2/10\n",
            "5/5 [==============================] - 7s 2s/step - loss: 0.5573 - accuracy: 0.3673 - val_loss: 0.7419 - val_accuracy: 0.3438\n",
            "Epoch 3/10\n",
            "5/5 [==============================] - 6s 1s/step - loss: 0.7503 - accuracy: 0.3333 - val_loss: 0.7264 - val_accuracy: 0.3750\n",
            "Epoch 4/10\n",
            "5/5 [==============================] - 8s 2s/step - loss: 0.5279 - accuracy: 0.4150 - val_loss: 0.7315 - val_accuracy: 0.3438\n",
            "Epoch 5/10\n",
            "5/5 [==============================] - 6s 1s/step - loss: 0.6196 - accuracy: 0.3810 - val_loss: 0.7402 - val_accuracy: 0.3438\n",
            "Epoch 6/10\n",
            "5/5 [==============================] - 8s 2s/step - loss: 0.6243 - accuracy: 0.3673 - val_loss: 0.7436 - val_accuracy: 0.2812\n",
            "Epoch 7/10\n",
            "5/5 [==============================] - 6s 1s/step - loss: 0.7228 - accuracy: 0.3401 - val_loss: 0.7422 - val_accuracy: 0.3125\n",
            "Epoch 8/10\n",
            "5/5 [==============================] - 8s 1s/step - loss: 0.6475 - accuracy: 0.3741 - val_loss: 0.7287 - val_accuracy: 0.3750\n",
            "Epoch 9/10\n",
            "5/5 [==============================] - 6s 1s/step - loss: 0.7119 - accuracy: 0.3469 - val_loss: 0.7197 - val_accuracy: 0.4062\n",
            "Epoch 10/10\n",
            "5/5 [==============================] - 8s 2s/step - loss: 0.6248 - accuracy: 0.3605 - val_loss: 0.7364 - val_accuracy: 0.2812\n"
          ]
        },
        {
          "output_type": "execute_result",
          "data": {
            "text/plain": [
              "<keras.callbacks.History at 0x7fa91c3331c0>"
            ]
          },
          "metadata": {},
          "execution_count": 14
        }
      ]
    },
    {
      "cell_type": "code",
      "source": [],
      "metadata": {
        "id": "BXVuyXG9RmuG"
      },
      "execution_count": null,
      "outputs": []
    },
    {
      "cell_type": "code",
      "source": [],
      "metadata": {
        "id": "QnGQL1hdRmxi"
      },
      "execution_count": null,
      "outputs": []
    }
  ],
  "metadata": {
    "colab": {
      "provenance": []
    },
    "kernelspec": {
      "display_name": "Python 3",
      "name": "python3"
    }
  },
  "nbformat": 4,
  "nbformat_minor": 0
}